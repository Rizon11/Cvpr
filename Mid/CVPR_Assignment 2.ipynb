{
 "cells": [
  {
   "cell_type": "code",
   "execution_count": 1,
   "id": "6f5839cb",
   "metadata": {},
   "outputs": [
    {
     "data": {
      "text/plain": [
       "[<matplotlib.lines.Line2D at 0x1b5d73f5b20>]"
      ]
     },
     "execution_count": 1,
     "metadata": {},
     "output_type": "execute_result"
    },
    {
     "data": {
      "image/png": "[encoded data removed]",
      "text/plain": [
       "<Figure size 640x480 with 1 Axes>"
      ]
     },
     "metadata": {},
     "output_type": "display_data"
    }
   ],
   "source": [
    "import numpy as np\n",
    "import matplotlib.pyplot as plt\n",
    "\n",
    "np.random.seed(0)\n",
    "\n",
    "#for XOR\n",
    "X = np.array([[0, 0], [0, 1], [1, 0], [1, 1]])\n",
    "Y = np.array([[0], [1], [1], [0]])\n",
    "\n",
    "\n",
    "class NeuralNetwork(object):\n",
    "    def __init__(self):\n",
    "        inputLayerNeurons = 2 #layer 1\n",
    "        hiddenLayer1Neurons = 10 #layer 2\n",
    "        hiddenLayer2Neurons = 20  #layer 3\n",
    "        outLayerNeurons = 1\n",
    "\n",
    "        self.learning_rate = 0.2\n",
    "\n",
    "      \n",
    "        self.W_HI1 = np.random.randn(inputLayerNeurons, hiddenLayer1Neurons)\n",
    "\n",
    "  \n",
    "        self.W_IH2 = np.random.randn(hiddenLayer1Neurons, hiddenLayer2Neurons)\n",
    "\n",
    "        self.W_OH2 = np.random.randn(hiddenLayer2Neurons, outLayerNeurons)\n",
    "\n",
    "    def sigmoid(self, x, der=False):\n",
    "        if der == True:\n",
    "            return x * (1 - x)\n",
    "        else:\n",
    "            return 1 / (1 + np.exp(-x))\n",
    "\n",
    "    def feedForward(self, X):\n",
    "        hidden1_input = np.dot(X, self.W_HI1)\n",
    "        self.hidden1_output = self.sigmoid(hidden1_input)\n",
    "\n",
    "        hidden2_input = np.dot(self.hidden1_output, self.W_IH2)\n",
    "        self.hidden2_output = self.sigmoid(hidden2_input)\n",
    "\n",
    "        output_input = np.dot(self.hidden2_output, self.W_OH2)\n",
    "        pred = self.sigmoid(output_input)\n",
    "        return pred\n",
    "\n",
    "    def backPropagation(self, X, Y, pred):\n",
    "        output_error = Y - pred\n",
    "        output_delta = self.learning_rate * output_error * self.sigmoid(pred, der=True)\n",
    "\n",
    "        hidden2_error = output_delta.dot(self.W_OH2.T)\n",
    "        hidden2_delta = self.learning_rate * hidden2_error * self.sigmoid(self.hidden2_output, der=True)\n",
    "\n",
    "        hidden1_error = hidden2_delta.dot(self.W_IH2.T)\n",
    "        hidden1_delta = self.learning_rate * hidden1_error * self.sigmoid(self.hidden1_output, der=True)\n",
    "\n",
    "        self.W_HI1 += X.T.dot(hidden1_delta)\n",
    "        self.W_IH2 += self.hidden1_output.T.dot(hidden2_delta)\n",
    "        self.W_OH2 += self.hidden2_output.T.dot(output_delta)\n",
    "\n",
    "    def train(self, X, Y):\n",
    "        output = self.feedForward(X)\n",
    "        self.backPropagation(X, Y, output)\n",
    "\n",
    "\n",
    "NN = NeuralNetwork()\n",
    "\n",
    "err = []\n",
    "for i in range(10000):\n",
    "    NN.train(X, Y)\n",
    "    err.append(np.mean(np.square(Y - NN.feedForward(X))))\n",
    "\n",
    "plt.plot(err)"
   ]
  },
  {
   "cell_type": "code",
   "execution_count": 2,
   "id": "685dedf1",
   "metadata": {},
   "outputs": [
    {
     "name": "stdout",
     "output_type": "stream",
     "text": [
      "[0.03379011]\n"
     ]
    }
   ],
   "source": [
    "print(NN.feedForward([0,0]))"
   ]
  },
  {
   "cell_type": "code",
   "execution_count": 3,
   "id": "68ac6ccc",
   "metadata": {},
   "outputs": [
    {
     "name": "stdout",
     "output_type": "stream",
     "text": [
      "[0.04233592]\n"
     ]
    }
   ],
   "source": [
    "print(NN.feedForward([1,1]))"
   ]
  },
  {
   "cell_type": "code",
   "execution_count": 4,
   "id": "2d730d1a",
   "metadata": {},
   "outputs": [
    {
     "name": "stdout",
     "output_type": "stream",
     "text": [
      "[0.9583005]\n"
     ]
    }
   ],
   "source": [
    "print(NN.feedForward([1,0]))"
   ]
  },
  {
   "cell_type": "code",
   "execution_count": 5,
   "id": "f6c9937a",
   "metadata": {},
   "outputs": [
    {
     "name": "stdout",
     "output_type": "stream",
     "text": [
      "[0.96510021]\n"
     ]
    }
   ],
   "source": [
    "print(NN.feedForward([0,1]))"
   ]
  },
  {
   "cell_type": "code",
   "execution_count": 6,
   "id": "f9ec1ade",
   "metadata": {},
   "outputs": [],
   "source": [
    "import numpy as np\n",
    "import matplotlib.pyplot as plt\n",
    "from sklearn.datasets import make_classification\n",
    "from sklearn.model_selection import train_test_split\n",
    "from sklearn.metrics import accuracy_score, confusion_matrix, classification_report"
   ]
  },
  {
   "cell_type": "code",
   "execution_count": 8,
   "id": "05f56f75",
   "metadata": {},
   "outputs": [],
   "source": [
    "# Generate a Synthetic Dataset\n",
    "# Generate synthetic dataset with 5 classes\n",
    "X, y = make_classification(n_samples=1000, n_features=10, n_classes=5, n_informative=8, n_clusters_per_class=1, random_state=42)\n",
    "\n",
    "# One-hot encode the labels for multi-class classification\n",
    "Y = np.eye(5)[y]  # Convert class labels to one-hot encoded vectors\n",
    "\n",
    "# Split the dataset into training (80%) and testing (20%) sets\n",
    "X_train, X_test, Y_train, Y_test = train_test_split(X, Y, test_size=0.2, random_state=42)\n"
   ]
  },
  {
   "cell_type": "code",
   "execution_count": 10,
   "id": "c9ae112e",
   "metadata": {},
   "outputs": [],
   "source": [
    "# Neural Network Class with Three Hidden Layers\n",
    "class NeuralNetwork:\n",
    "    def __init__(self, input_size=10, hidden1_size=64, hidden2_size=32, hidden3_size=16, output_size=5):\n",
    "        # Initialize weights for 3 hidden layers and 1 output layer\n",
    "        self.W1 = np.random.randn(input_size, hidden1_size)\n",
    "        self.b1 = np.zeros((1, hidden1_size))\n",
    "        self.W2 = np.random.randn(hidden1_size, hidden2_size)\n",
    "        self.b2 = np.zeros((1, hidden2_size))\n",
    "        self.W3 = np.random.randn(hidden2_size, hidden3_size)\n",
    "        self.b3 = np.zeros((1, hidden3_size))\n",
    "        self.W4 = np.random.randn(hidden3_size, output_size)\n",
    "        self.b4 = np.zeros((1, output_size))\n",
    "\n",
    "    # ReLU activation function for hidden layers\n",
    "    def relu(self, x):\n",
    "        return np.maximum(0, x)\n",
    "\n",
    "    # Softmax activation function for the output layer\n",
    "    def softmax(self, x):\n",
    "        exp_x = np.exp(x - np.max(x, axis=1, keepdims=True))  # Subtract max for numerical stability\n",
    "        return exp_x / np.sum(exp_x, axis=1, keepdims=True)\n",
    "\n",
    "    # Feedforward process: passes input through all layers\n",
    "    def feedForward(self, X):\n",
    "        self.z1 = np.dot(X, self.W1) + self.b1\n",
    "        self.a1 = self.relu(self.z1)\n",
    "        self.z2 = np.dot(self.a1, self.W2) + self.b2\n",
    "        self.a2 = self.relu(self.z2)\n",
    "        self.z3 = np.dot(self.a2, self.W3) + self.b3\n",
    "        self.a3 = self.relu(self.z3)\n",
    "        self.z4 = np.dot(self.a3, self.W4) + self.b4\n",
    "        return self.softmax(self.z4)  # Output layer\n",
    "\n",
    "    # Cross-entropy loss function for multi-class classification\n",
    "    def cross_entropy_loss(self, Y_pred, Y_true):\n",
    "        n_samples = Y_true.shape[0]\n",
    "        logp = - np.log(Y_pred[range(n_samples), np.argmax(Y_true, axis=1)])\n",
    "        return np.sum(logp) / n_samples\n",
    "\n",
    "    # Backpropagation to compute gradients and update weights\n",
    "    def backpropagation(self, X, Y, learning_rate=0.01):\n",
    "        m = X.shape[0]  # Number of samples\n",
    "\n",
    "        # Forward pass\n",
    "        Y_pred = self.feedForward(X)\n",
    "\n",
    "        # Compute gradients for the output layer\n",
    "        dz4 = Y_pred - Y\n",
    "        dW4 = np.dot(self.a3.T, dz4) / m\n",
    "        db4 = np.sum(dz4, axis=0, keepdims=True) / m\n",
    "\n",
    "        # Backpropagate to the third hidden layer\n",
    "        dz3 = np.dot(dz4, self.W4.T) * (self.a3 > 0)\n",
    "        dW3 = np.dot(self.a2.T, dz3) / m\n",
    "        db3 = np.sum(dz3, axis=0, keepdims=True) / m\n",
    "\n",
    "        # Backpropagate to the second hidden layer\n",
    "        dz2 = np.dot(dz3, self.W3.T) * (self.a2 > 0)\n",
    "        dW2 = np.dot(self.a1.T, dz2) / m\n",
    "        db2 = np.sum(dz2, axis=0, keepdims=True) / m\n",
    "\n",
    "        # Backpropagate to the first hidden layer\n",
    "        dz1 = np.dot(dz2, self.W2.T) * (self.a1 > 0)\n",
    "        dW1 = np.dot(X.T, dz1) / m\n",
    "        db1 = np.sum(dz1, axis=0, keepdims=True) / m\n",
    "\n",
    "        # Update weights and biases using gradient descent\n",
    "        self.W4 -= learning_rate * dW4\n",
    "        self.b4 -= learning_rate * db4\n",
    "        self.W3 -= learning_rate * dW3\n",
    "        self.b3 -= learning_rate * db3\n",
    "        self.W2 -= learning_rate * dW2\n",
    "        self.b2 -= learning_rate * db2\n",
    "        self.W1 -= learning_rate * dW1\n",
    "        self.b1 -= learning_rate * db1\n",
    "\n",
    "        # Return the loss value\n",
    "        return self.cross_entropy_loss(Y_pred, Y)\n"
   ]
  },
  {
   "cell_type": "code",
   "execution_count": 12,
   "id": "6c06d161",
   "metadata": {},
   "outputs": [
    {
     "name": "stderr",
     "output_type": "stream",
     "text": [
      "C:\\Users\\h\\AppData\\Local\\Temp\\ipykernel_18940\\2471272.py:37: RuntimeWarning: divide by zero encountered in log\n",
      "  logp = - np.log(Y_pred[range(n_samples), np.argmax(Y_true, axis=1)])\n"
     ]
    },
    {
     "name": "stdout",
     "output_type": "stream",
     "text": [
      "Epoch 0, Loss: inf\n",
      "Epoch 500, Loss: 0.59790053696158\n"
     ]
    },
    {
     "data": {
      "image/png": "[encoded data removed]",
      "text/plain": [
       "<Figure size 640x480 with 1 Axes>"
      ]
     },
     "metadata": {},
     "output_type": "display_data"
    }
   ],
   "source": [
    "# Training the Neural Network\n",
    "# Initialize the neural network\n",
    "NN = NeuralNetwork()\n",
    "\n",
    "epochs = 1000  # Number of iterations over the dataset\n",
    "learning_rate = 0.01\n",
    "losses = []\n",
    "\n",
    "# Training loop\n",
    "for epoch in range(epochs):\n",
    "    loss = NN.backpropagation(X_train, Y_train, learning_rate)\n",
    "    losses.append(loss)\n",
    "\n",
    "    # Print loss every 500 epochs\n",
    "    if epoch % 500 == 0:\n",
    "        print(f'Epoch {epoch}, Loss: {loss}')\n",
    "\n",
    "# Plot the loss curve\n",
    "plt.plot(losses)\n",
    "plt.title(\"Loss Curve\")\n",
    "plt.xlabel(\"Epochs\")\n",
    "plt.ylabel(\"Loss\")\n",
    "plt.show()\n"
   ]
  },
  {
   "cell_type": "code",
   "execution_count": 13,
   "id": "af817ad3",
   "metadata": {},
   "outputs": [
    {
     "name": "stdout",
     "output_type": "stream",
     "text": [
      "Training Accuracy: 77.25%\n",
      "Testing Accuracy: 64.00%\n",
      "Confusion Matrix:\n",
      "[[32  1  0  0  9]\n",
      " [12 15  1  3  2]\n",
      " [ 3  1 27  5  4]\n",
      " [15  1  2 23  0]\n",
      " [ 7  1  2  3 31]]\n",
      "\n",
      "Classification Report:\n",
      "              precision    recall  f1-score   support\n",
      "\n",
      "     Class 0       0.46      0.76      0.58        42\n",
      "     Class 1       0.79      0.45      0.58        33\n",
      "     Class 2       0.84      0.68      0.75        40\n",
      "     Class 3       0.68      0.56      0.61        41\n",
      "     Class 4       0.67      0.70      0.69        44\n",
      "\n",
      "    accuracy                           0.64       200\n",
      "   macro avg       0.69      0.63      0.64       200\n",
      "weighted avg       0.68      0.64      0.64       200\n",
      "\n"
     ]
    }
   ],
   "source": [
    "# Evaluate the Neural Network\n",
    "# Predict on training and testing data\n",
    "Y_pred_train = NN.feedForward(X_train)\n",
    "Y_pred_test = NN.feedForward(X_test)\n",
    "\n",
    "# Convert predictions from one-hot encoding to class labels\n",
    "Y_pred_train_labels = np.argmax(Y_pred_train, axis=1)\n",
    "Y_pred_test_labels = np.argmax(Y_pred_test, axis=1)\n",
    "\n",
    "# Convert true labels from one-hot encoding to class labels\n",
    "Y_train_labels = np.argmax(Y_train, axis=1)\n",
    "Y_test_labels = np.argmax(Y_test, axis=1)\n",
    "\n",
    "# Calculate accuracy for training and testing data\n",
    "train_accuracy = accuracy_score(Y_train_labels, Y_pred_train_labels)\n",
    "test_accuracy = accuracy_score(Y_test_labels, Y_pred_test_labels)\n",
    "\n",
    "print(f\"Training Accuracy: {train_accuracy * 100:.2f}%\")\n",
    "print(f\"Testing Accuracy: {test_accuracy * 100:.2f}%\")\n",
    "\n",
    "# Generate confusion matrix and classification report for test data\n",
    "conf_matrix = confusion_matrix(Y_test_labels, Y_pred_test_labels)\n",
    "class_report = classification_report(Y_test_labels, Y_pred_test_labels, target_names=[f'Class {i}' for i in range(5)])\n",
    "\n",
    "# Display results\n",
    "print(\"Confusion Matrix:\")\n",
    "print(conf_matrix)\n",
    "\n",
    "print(\"\\nClassification Report:\")\n",
    "print(class_report)\n"
   ]
  },
  {
   "cell_type": "code",
   "execution_count": null,
   "id": "bf169f02",
   "metadata": {},
   "outputs": [],
   "source": []
  }
 ],
 "metadata": {
  "kernelspec": {
   "display_name": "Python 3 (ipykernel)",
   "language": "python",
   "name": "python3"
  },
  "language_info": {
   "codemirror_mode": {
    "name": "ipython",
    "version": 3
   },
   "file_extension": ".py",
   "mimetype": "text/x-python",
   "name": "python",
   "nbconvert_exporter": "python",
   "pygments_lexer": "ipython3",
   "version": "3.9.13"
  }
 },
 "nbformat": 4,
 "nbformat_minor": 5
}
